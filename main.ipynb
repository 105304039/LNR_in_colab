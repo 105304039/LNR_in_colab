{
 "cells": [
  {
   "cell_type": "markdown",
   "metadata": {
    "id": "Za6eyEy3tNOf"
   },
   "source": [
    "# Installation: 安裝套件\n"
   ]
  },
  {
   "cell_type": "code",
   "execution_count": null,
   "metadata": {
    "colab": {
     "base_uri": "https://localhost:8080/"
    },
    "id": "Ggrbqzvcu4Ts",
    "outputId": "2e2431e6-f8c6-4ba7-8dbe-ec186217b9f3"
   },
   "outputs": [
    {
     "name": "stdout",
     "output_type": "stream",
     "text": [
      "Collecting colabcam\n",
      "  Downloading colabcam-1.0.3.tar.gz (5.4 kB)\n",
      "  Preparing metadata (setup.py) ... \u001b[?25l\u001b[?25hdone\n",
      "Collecting mediapipe (from colabcam)\n",
      "  Downloading mediapipe-0.10.9-cp310-cp310-manylinux_2_17_x86_64.manylinux2014_x86_64.whl (34.5 MB)\n",
      "\u001b[2K     \u001b[90m━━━━━━━━━━━━━━━━━━━━━━━━━━━━━━━━━━━━━━━━\u001b[0m \u001b[32m34.5/34.5 MB\u001b[0m \u001b[31m41.3 MB/s\u001b[0m eta \u001b[36m0:00:00\u001b[0m\n",
      "\u001b[?25hRequirement already satisfied: absl-py in /usr/local/lib/python3.10/dist-packages (from mediapipe->colabcam) (1.4.0)\n",
      "Requirement already satisfied: attrs>=19.1.0 in /usr/local/lib/python3.10/dist-packages (from mediapipe->colabcam) (23.2.0)\n",
      "Requirement already satisfied: flatbuffers>=2.0 in /usr/local/lib/python3.10/dist-packages (from mediapipe->colabcam) (23.5.26)\n",
      "Requirement already satisfied: matplotlib in /usr/local/lib/python3.10/dist-packages (from mediapipe->colabcam) (3.7.1)\n",
      "Requirement already satisfied: numpy in /usr/local/lib/python3.10/dist-packages (from mediapipe->colabcam) (1.25.2)\n",
      "Requirement already satisfied: opencv-contrib-python in /usr/local/lib/python3.10/dist-packages (from mediapipe->colabcam) (4.8.0.76)\n",
      "Requirement already satisfied: protobuf<4,>=3.11 in /usr/local/lib/python3.10/dist-packages (from mediapipe->colabcam) (3.20.3)\n",
      "Collecting sounddevice>=0.4.4 (from mediapipe->colabcam)\n",
      "  Downloading sounddevice-0.4.6-py3-none-any.whl (31 kB)\n",
      "Requirement already satisfied: CFFI>=1.0 in /usr/local/lib/python3.10/dist-packages (from sounddevice>=0.4.4->mediapipe->colabcam) (1.16.0)\n",
      "Requirement already satisfied: contourpy>=1.0.1 in /usr/local/lib/python3.10/dist-packages (from matplotlib->mediapipe->colabcam) (1.2.0)\n",
      "Requirement already satisfied: cycler>=0.10 in /usr/local/lib/python3.10/dist-packages (from matplotlib->mediapipe->colabcam) (0.12.1)\n",
      "Requirement already satisfied: fonttools>=4.22.0 in /usr/local/lib/python3.10/dist-packages (from matplotlib->mediapipe->colabcam) (4.48.1)\n",
      "Requirement already satisfied: kiwisolver>=1.0.1 in /usr/local/lib/python3.10/dist-packages (from matplotlib->mediapipe->colabcam) (1.4.5)\n",
      "Requirement already satisfied: packaging>=20.0 in /usr/local/lib/python3.10/dist-packages (from matplotlib->mediapipe->colabcam) (23.2)\n",
      "Requirement already satisfied: pillow>=6.2.0 in /usr/local/lib/python3.10/dist-packages (from matplotlib->mediapipe->colabcam) (9.4.0)\n",
      "Requirement already satisfied: pyparsing>=2.3.1 in /usr/local/lib/python3.10/dist-packages (from matplotlib->mediapipe->colabcam) (3.1.1)\n",
      "Requirement already satisfied: python-dateutil>=2.7 in /usr/local/lib/python3.10/dist-packages (from matplotlib->mediapipe->colabcam) (2.8.2)\n",
      "Requirement already satisfied: pycparser in /usr/local/lib/python3.10/dist-packages (from CFFI>=1.0->sounddevice>=0.4.4->mediapipe->colabcam) (2.21)\n",
      "Requirement already satisfied: six>=1.5 in /usr/local/lib/python3.10/dist-packages (from python-dateutil>=2.7->matplotlib->mediapipe->colabcam) (1.16.0)\n",
      "Building wheels for collected packages: colabcam\n",
      "  Building wheel for colabcam (setup.py) ... \u001b[?25l\u001b[?25hdone\n",
      "  Created wheel for colabcam: filename=colabcam-1.0.3-py3-none-any.whl size=5487 sha256=c07597599af1a024561b7e379fe7df0b7acd5f1925596c3e747112798929cc06\n",
      "  Stored in directory: /root/.cache/pip/wheels/5a/ec/08/a87ee87cbf9c5d825e3433eb730e708d708e02158cd56f9606\n",
      "Successfully built colabcam\n",
      "Installing collected packages: sounddevice, mediapipe, colabcam\n",
      "Successfully installed colabcam-1.0.3 mediapipe-0.10.9 sounddevice-0.4.6\n"
     ]
    }
   ],
   "source": [
    "!pip install colabcam"
   ]
  },
  {
   "cell_type": "code",
   "execution_count": null,
   "metadata": {
    "colab": {
     "base_uri": "https://localhost:8080/"
    },
    "id": "lVwMqTpMGlQp",
    "outputId": "d006d5b0-3679-4a76-8662-4ef2822fbab0"
   },
   "outputs": [
    {
     "name": "stdout",
     "output_type": "stream",
     "text": [
      "Collecting easyocr\n",
      "  Downloading easyocr-1.7.1-py3-none-any.whl (2.9 MB)\n",
      "\u001b[2K     \u001b[90m━━━━━━━━━━━━━━━━━━━━━━━━━━━━━━━━━━━━━━━━\u001b[0m \u001b[32m2.9/2.9 MB\u001b[0m \u001b[31m10.7 MB/s\u001b[0m eta \u001b[36m0:00:00\u001b[0m\n",
      "\u001b[?25hRequirement already satisfied: torch in /usr/local/lib/python3.10/dist-packages (from easyocr) (2.1.0+cu121)\n",
      "Requirement already satisfied: torchvision>=0.5 in /usr/local/lib/python3.10/dist-packages (from easyocr) (0.16.0+cu121)\n",
      "Requirement already satisfied: opencv-python-headless in /usr/local/lib/python3.10/dist-packages (from easyocr) (4.9.0.80)\n",
      "Requirement already satisfied: scipy in /usr/local/lib/python3.10/dist-packages (from easyocr) (1.11.4)\n",
      "Requirement already satisfied: numpy in /usr/local/lib/python3.10/dist-packages (from easyocr) (1.23.5)\n",
      "Requirement already satisfied: Pillow in /usr/local/lib/python3.10/dist-packages (from easyocr) (9.4.0)\n",
      "Requirement already satisfied: scikit-image in /usr/local/lib/python3.10/dist-packages (from easyocr) (0.19.3)\n",
      "Collecting python-bidi (from easyocr)\n",
      "  Downloading python_bidi-0.4.2-py2.py3-none-any.whl (30 kB)\n",
      "Requirement already satisfied: PyYAML in /usr/local/lib/python3.10/dist-packages (from easyocr) (6.0.1)\n",
      "Requirement already satisfied: Shapely in /usr/local/lib/python3.10/dist-packages (from easyocr) (2.0.2)\n",
      "Collecting pyclipper (from easyocr)\n",
      "  Downloading pyclipper-1.3.0.post5-cp310-cp310-manylinux_2_12_x86_64.manylinux2010_x86_64.whl (908 kB)\n",
      "\u001b[2K     \u001b[90m━━━━━━━━━━━━━━━━━━━━━━━━━━━━━━━━━━━━━━━━\u001b[0m \u001b[32m908.3/908.3 kB\u001b[0m \u001b[31m47.0 MB/s\u001b[0m eta \u001b[36m0:00:00\u001b[0m\n",
      "\u001b[?25hCollecting ninja (from easyocr)\n",
      "  Downloading ninja-1.11.1.1-py2.py3-none-manylinux1_x86_64.manylinux_2_5_x86_64.whl (307 kB)\n",
      "\u001b[2K     \u001b[90m━━━━━━━━━━━━━━━━━━━━━━━━━━━━━━━━━━━━━━━━\u001b[0m \u001b[32m307.2/307.2 kB\u001b[0m \u001b[31m25.6 MB/s\u001b[0m eta \u001b[36m0:00:00\u001b[0m\n",
      "\u001b[?25hRequirement already satisfied: requests in /usr/local/lib/python3.10/dist-packages (from torchvision>=0.5->easyocr) (2.31.0)\n",
      "Requirement already satisfied: filelock in /usr/local/lib/python3.10/dist-packages (from torch->easyocr) (3.13.1)\n",
      "Requirement already satisfied: typing-extensions in /usr/local/lib/python3.10/dist-packages (from torch->easyocr) (4.5.0)\n",
      "Requirement already satisfied: sympy in /usr/local/lib/python3.10/dist-packages (from torch->easyocr) (1.12)\n",
      "Requirement already satisfied: networkx in /usr/local/lib/python3.10/dist-packages (from torch->easyocr) (3.2.1)\n",
      "Requirement already satisfied: jinja2 in /usr/local/lib/python3.10/dist-packages (from torch->easyocr) (3.1.2)\n",
      "Requirement already satisfied: fsspec in /usr/local/lib/python3.10/dist-packages (from torch->easyocr) (2023.6.0)\n",
      "Requirement already satisfied: triton==2.1.0 in /usr/local/lib/python3.10/dist-packages (from torch->easyocr) (2.1.0)\n",
      "Requirement already satisfied: six in /usr/local/lib/python3.10/dist-packages (from python-bidi->easyocr) (1.16.0)\n",
      "Requirement already satisfied: imageio>=2.4.1 in /usr/local/lib/python3.10/dist-packages (from scikit-image->easyocr) (2.31.6)\n",
      "Requirement already satisfied: tifffile>=2019.7.26 in /usr/local/lib/python3.10/dist-packages (from scikit-image->easyocr) (2023.12.9)\n",
      "Requirement already satisfied: PyWavelets>=1.1.1 in /usr/local/lib/python3.10/dist-packages (from scikit-image->easyocr) (1.5.0)\n",
      "Requirement already satisfied: packaging>=20.0 in /usr/local/lib/python3.10/dist-packages (from scikit-image->easyocr) (23.2)\n",
      "Requirement already satisfied: MarkupSafe>=2.0 in /usr/local/lib/python3.10/dist-packages (from jinja2->torch->easyocr) (2.1.3)\n",
      "Requirement already satisfied: charset-normalizer<4,>=2 in /usr/local/lib/python3.10/dist-packages (from requests->torchvision>=0.5->easyocr) (3.3.2)\n",
      "Requirement already satisfied: idna<4,>=2.5 in /usr/local/lib/python3.10/dist-packages (from requests->torchvision>=0.5->easyocr) (3.6)\n",
      "Requirement already satisfied: urllib3<3,>=1.21.1 in /usr/local/lib/python3.10/dist-packages (from requests->torchvision>=0.5->easyocr) (2.0.7)\n",
      "Requirement already satisfied: certifi>=2017.4.17 in /usr/local/lib/python3.10/dist-packages (from requests->torchvision>=0.5->easyocr) (2023.11.17)\n",
      "Requirement already satisfied: mpmath>=0.19 in /usr/local/lib/python3.10/dist-packages (from sympy->torch->easyocr) (1.3.0)\n",
      "Installing collected packages: pyclipper, ninja, python-bidi, easyocr\n",
      "Successfully installed easyocr-1.7.1 ninja-1.11.1.1 pyclipper-1.3.0.post5 python-bidi-0.4.2\n"
     ]
    }
   ],
   "source": [
    "!pip install easyocr"
   ]
  },
  {
   "cell_type": "markdown",
   "metadata": {},
   "source": [
    "# Build function: 公式讀取與參數指定"
   ]
  },
  {
   "cell_type": "code",
   "execution_count": 27,
   "metadata": {
    "id": "ssTNEFqBtfNo"
   },
   "outputs": [],
   "source": [
    "from anpr_easy import PyImageSearchANPR\n",
    "import easyocr\n",
    "import numpy as np\n",
    "import cv2\n",
    "\n",
    "reader = easyocr.Reader(['en'])\n",
    "def main(image,contour_box_ratio = 0.6,keep = 5,minAR = 1.5,maxAR = 4,license_num = 6,psm = 7,verbose = None):\n",
    "    aa = PyImageSearchANPR(reader,minAR=minAR, maxAR=maxAR,license_num=license_num,verbose = verbose,keep = keep, contour_box_ratio = contour_box_ratio)\n",
    "    result= aa.find_and_ocr(image, psm=psm)\n",
    "    if type(result)==tuple:\n",
    "        (lpText, lpCnt) = result\n",
    "        return cv2.boundingRect(lpCnt),lpText.strip()\n",
    "\n",
    "def realtime_process(img):\n",
    "    bgra = np.zeros([img.shape[0],img.shape[1],4], dtype=np.uint8)\n",
    "    result = main(img)\n",
    "    if result!=None:\n",
    "        (x,y,w,h),text = result\n",
    "        bgra = cv2.rectangle(bgra,(x,y),(x+w,y+h),(255,0,0),2)\n",
    "        bgra = cv2.putText(bgra,text,(x,y - 15),cv2.FONT_HERSHEY_SIMPLEX,0.75,(255,0,0),2)\n",
    "        bgra[:,:,3] = (bgra.max(axis = 2) > 0 ).astype(int) * 255\n",
    "        return bgra,text\n",
    "    else:\n",
    "        return bgra,''"
   ]
  },
  {
   "cell_type": "markdown",
   "metadata": {
    "id": "U0XpoiheHcAr"
   },
   "source": [
    "# Run: 運行"
   ]
  },
  {
   "cell_type": "code",
   "execution_count": null,
   "metadata": {},
   "outputs": [
    {
     "data": {
      "application/javascript": [
       "\n",
       "    var video;\n",
       "    var div = null;\n",
       "    var stream;\n",
       "    var captureCanvas;\n",
       "    var imgElement;\n",
       "    var labelElement;\n",
       "\n",
       "    var pendingResolve = null;\n",
       "    var shutdown = false;\n",
       "\n",
       "    function removeDom() {\n",
       "       stream.getVideoTracks()[0].stop();\n",
       "       video.remove();\n",
       "       div.remove();\n",
       "       video = null;\n",
       "       div = null;\n",
       "       stream = null;\n",
       "       imgElement = null;\n",
       "       captureCanvas = null;\n",
       "       labelElement = null;\n",
       "    }\n",
       "\n",
       "    function onAnimationFrame() {\n",
       "      if (!shutdown) {\n",
       "        window.requestAnimationFrame(onAnimationFrame);\n",
       "      }\n",
       "      if (pendingResolve) {\n",
       "        var result = \"\";\n",
       "        if (!shutdown) {\n",
       "          captureCanvas.getContext('2d').drawImage(video, 0, 0, 640, 480);\n",
       "          result = captureCanvas.toDataURL('image/jpeg', 0.8)\n",
       "        }\n",
       "        var lp = pendingResolve;\n",
       "        pendingResolve = null;\n",
       "        lp(result);\n",
       "      }\n",
       "    }\n",
       "\n",
       "    async function createDom() {\n",
       "      if (div !== null) {\n",
       "        return stream;\n",
       "      }\n",
       "\n",
       "      div = document.createElement('div');\n",
       "      div.style.border = '2px solid black';\n",
       "      div.style.padding = '3px';\n",
       "      div.style.width = '100%';\n",
       "      div.style.maxWidth = '600px';\n",
       "      document.body.appendChild(div);\n",
       "\n",
       "      const modelOut = document.createElement('div');\n",
       "      modelOut.innerHTML = \"<span>Status:</span>\";\n",
       "      labelElement = document.createElement('span');\n",
       "      labelElement.innerText = 'No data';\n",
       "      labelElement.style.fontWeight = 'bold';\n",
       "      modelOut.appendChild(labelElement);\n",
       "      div.appendChild(modelOut);\n",
       "\n",
       "      video = document.createElement('video');\n",
       "      video.style.display = 'block';\n",
       "      video.width = div.clientWidth - 6;\n",
       "      video.setAttribute('playsinline', '');\n",
       "      video.onclick = () => { shutdown = true; };\n",
       "      stream = await navigator.mediaDevices.getUserMedia(\n",
       "          {video: { facingMode: \"environment\"}});\n",
       "      div.appendChild(video);\n",
       "\n",
       "      imgElement = document.createElement('img');\n",
       "      imgElement.style.position = 'absolute';\n",
       "      imgElement.style.zIndex = 1;\n",
       "      imgElement.onclick = () => { shutdown = true; };\n",
       "      div.appendChild(imgElement);\n",
       "\n",
       "      const instruction = document.createElement('div');\n",
       "      instruction.innerHTML =\n",
       "          '<span style=\"color: red; font-weight: bold;\">' +\n",
       "          'When finished, click here or on the video to stop this demo</span>';\n",
       "      div.appendChild(instruction);\n",
       "      instruction.onclick = () => { shutdown = true; };\n",
       "\n",
       "      video.srcObject = stream;\n",
       "      await video.play();\n",
       "\n",
       "      captureCanvas = document.createElement('canvas');\n",
       "      captureCanvas.width = 640; //video.videoWidth;\n",
       "      captureCanvas.height = 480; //video.videoHeight;\n",
       "      window.requestAnimationFrame(onAnimationFrame);\n",
       "\n",
       "      return stream;\n",
       "    }\n",
       "\n",
       "    async function stream_frame(label, imgData) {\n",
       "      if (shutdown) {\n",
       "        removeDom();\n",
       "        shutdown = false;\n",
       "        return '';\n",
       "      }\n",
       "\n",
       "      var preCreate = Date.now();\n",
       "      stream = await createDom();\n",
       "\n",
       "      var preShow = Date.now();\n",
       "      if (label != \"\") {\n",
       "        labelElement.innerHTML = label;\n",
       "      }\n",
       "\n",
       "      if (imgData != \"\") {\n",
       "        var videoRect = video.getClientRects()[0];\n",
       "        imgElement.style.top = videoRect.top + \"px\";\n",
       "        imgElement.style.left = videoRect.left + \"px\";\n",
       "        imgElement.style.width = videoRect.width + \"px\";\n",
       "        imgElement.style.height = videoRect.height + \"px\";\n",
       "        imgElement.src = imgData;\n",
       "      }\n",
       "\n",
       "      var preCapture = Date.now();\n",
       "      var result = await new Promise(function(resolve, reject) {\n",
       "        pendingResolve = resolve;\n",
       "      });\n",
       "      shutdown = false;\n",
       "\n",
       "      return {'create': preShow - preCreate,\n",
       "              'show': preCapture - preShow,\n",
       "              'capture': Date.now() - preCapture,\n",
       "              'img': result};\n",
       "    }\n",
       "    "
      ],
      "text/plain": [
       "<IPython.core.display.Javascript object>"
      ]
     },
     "metadata": {},
     "output_type": "display_data"
    }
   ],
   "source": [
    "import colab_cam as cc\n",
    "\n",
    "cc.video_stream()\n",
    "label_html = 'Capturing...'\n",
    "overlap_img = ''\n",
    "\n",
    "while True:\n",
    "\n",
    "    js_reply = cc.video_frame(label_html, overlap_img)\n",
    "\n",
    "    if not js_reply:\n",
    "        break\n",
    "\n",
    "    img = colabcam.js_to_image(js_reply[\"img\"])\n",
    "\n",
    "    overlap_array,t = realtime_process(img)\n",
    "    overlap_bytes = cc.overlap_to_bytes(overlap_array)\n",
    "    overlap_img = overlap_bytes"
   ]
  }
 ],
 "metadata": {
  "accelerator": "GPU",
  "colab": {
   "gpuType": "T4",
   "provenance": [],
   "toc_visible": true
  },
  "kernelspec": {
   "display_name": "Python 3 (ipykernel)",
   "language": "python",
   "name": "python3"
  },
  "language_info": {
   "codemirror_mode": {
    "name": "ipython",
    "version": 3
   },
   "file_extension": ".py",
   "mimetype": "text/x-python",
   "name": "python",
   "nbconvert_exporter": "python",
   "pygments_lexer": "ipython3",
   "version": "3.7.11"
  }
 },
 "nbformat": 4,
 "nbformat_minor": 4
}
